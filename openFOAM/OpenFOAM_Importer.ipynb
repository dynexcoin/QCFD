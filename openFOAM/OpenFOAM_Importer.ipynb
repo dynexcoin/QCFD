{
 "cells": [
  {
   "cell_type": "code",
   "execution_count": 1,
   "metadata": {},
   "outputs": [
    {
     "name": "stdout",
     "output_type": "stream",
     "text": [
      "[QCFDPlugin]: Detecting Files...\n",
      "[QCFDPlugin]: Found PolyMesh 3D... Analyzing...\n",
      "[QCFDPlugin]: Found timelapse 0 ... p, U at the initial state found...\n",
      "[QCFDPlugin]: Found main solver --- SimpleFoam --- [COMPATIBLE]\n",
      "[QCFDPlugin]: Loading 3D mesh...\n",
      "[QCFDPlugin]: faceAreas NOT FOUND! Calculating them manually...\n",
      "[QCFDPlugin]: cellCentres NOT FOUND! Calculating them manually...\n"
     ]
    }
   ],
   "source": [
    "from QCFDPlugin import QCFDPlugin\n",
    "\n",
    "casePath = \".\"  # same folder\n",
    "extractor = QCFDPlugin(casePath)"
   ]
  },
  {
   "cell_type": "code",
   "execution_count": 2,
   "metadata": {},
   "outputs": [
    {
     "name": "stdout",
     "output_type": "stream",
     "text": [
      "[QCFDPlugin]: Found 442363 Cells... Initializing flux Calculation\n",
      "[QCFDPlugin]: Calculating fluxes... This may take a few minutes\n",
      "[QCFDPlugin]: Calculating fluxes... [DONE]\n",
      "[QCFDPlugin]: Preparing the linear system...\n",
      "[QCFDPlugin]: Loading fvSchemes...\n",
      "[QCFDPlugin]: Using sparse matrix for large-scale simulation.\n",
      "[QCFDPlugin]: Applying boundary conditions...\n",
      "[QCFDPlugin]: Boundary conditions applied.\n",
      "[QCFDPlugin]: Linear system prepared.\n",
      "[QCFDPlugin]: DynexQCFD will take it from here :)\n"
     ]
    }
   ],
   "source": [
    "fieldName = \"U\" # Velocity\n",
    "t = \"0\" # initial-state\n",
    "A, b = extractor.export(t, fieldName)"
   ]
  }
 ],
 "metadata": {
  "kernelspec": {
   "display_name": "QCFD",
   "language": "python",
   "name": "python3"
  },
  "language_info": {
   "codemirror_mode": {
    "name": "ipython",
    "version": 3
   },
   "file_extension": ".py",
   "mimetype": "text/x-python",
   "name": "python",
   "nbconvert_exporter": "python",
   "pygments_lexer": "ipython3",
   "version": "3.8.18"
  }
 },
 "nbformat": 4,
 "nbformat_minor": 2
}
